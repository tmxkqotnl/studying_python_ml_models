{
 "cells": [
  {
   "cell_type": "markdown",
   "metadata": {},
   "source": [
    "SOURCE : [URL](https://dacon.io/competitions/open/235594/data)"
   ]
  },
  {
   "cell_type": "code",
   "execution_count": 50,
   "metadata": {},
   "outputs": [],
   "source": [
    "import numpy as np\n",
    "import seaborn as sns\n",
    "import matplotlib.pyplot as plt\n",
    "import pandas as pd\n",
    "\n",
    "import tensorflow as tf\n",
    "from tensorflow.keras import Sequential\n",
    "from tensorflow.keras.layers import Dense,Flatten,Conv2D,MaxPool2D,Dropout\n",
    "from tensorflow.keras.datasets import mnist\n",
    "from tensorflow.keras.callbacks import EarlyStopping\n",
    "\n",
    "from sklearn.preprocessing import MinMaxScaler, StandardScaler\n",
    "from sklearn.model_selection import train_test_split"
   ]
  },
  {
   "cell_type": "code",
   "execution_count": 28,
   "metadata": {},
   "outputs": [
    {
     "name": "stdout",
     "output_type": "stream",
     "text": [
      "(60000, 786) (10000, 785)\n"
     ]
    }
   ],
   "source": [
    "df_train = pd.read_csv('../data/fashion_mnist/train.csv')\n",
    "df_test = pd.read_csv('../data/fashion_mnist/test.csv')\n",
    "\n",
    "print(df_train.shape,df_test.shape)"
   ]
  },
  {
   "cell_type": "code",
   "execution_count": 29,
   "metadata": {},
   "outputs": [
    {
     "data": {
      "text/html": [
       "<div>\n",
       "<style scoped>\n",
       "    .dataframe tbody tr th:only-of-type {\n",
       "        vertical-align: middle;\n",
       "    }\n",
       "\n",
       "    .dataframe tbody tr th {\n",
       "        vertical-align: top;\n",
       "    }\n",
       "\n",
       "    .dataframe thead th {\n",
       "        text-align: right;\n",
       "    }\n",
       "</style>\n",
       "<table border=\"1\" class=\"dataframe\">\n",
       "  <thead>\n",
       "    <tr style=\"text-align: right;\">\n",
       "      <th></th>\n",
       "      <th>index</th>\n",
       "      <th>label</th>\n",
       "      <th>pixel1</th>\n",
       "      <th>pixel2</th>\n",
       "      <th>pixel3</th>\n",
       "      <th>pixel4</th>\n",
       "      <th>pixel5</th>\n",
       "      <th>pixel6</th>\n",
       "      <th>pixel7</th>\n",
       "      <th>pixel8</th>\n",
       "      <th>...</th>\n",
       "      <th>pixel775</th>\n",
       "      <th>pixel776</th>\n",
       "      <th>pixel777</th>\n",
       "      <th>pixel778</th>\n",
       "      <th>pixel779</th>\n",
       "      <th>pixel780</th>\n",
       "      <th>pixel781</th>\n",
       "      <th>pixel782</th>\n",
       "      <th>pixel783</th>\n",
       "      <th>pixel784</th>\n",
       "    </tr>\n",
       "  </thead>\n",
       "  <tbody>\n",
       "    <tr>\n",
       "      <th>0</th>\n",
       "      <td>0</td>\n",
       "      <td>2</td>\n",
       "      <td>0</td>\n",
       "      <td>0</td>\n",
       "      <td>0</td>\n",
       "      <td>0</td>\n",
       "      <td>0</td>\n",
       "      <td>0</td>\n",
       "      <td>0</td>\n",
       "      <td>0</td>\n",
       "      <td>...</td>\n",
       "      <td>0</td>\n",
       "      <td>0</td>\n",
       "      <td>0</td>\n",
       "      <td>0</td>\n",
       "      <td>0</td>\n",
       "      <td>0</td>\n",
       "      <td>0</td>\n",
       "      <td>0</td>\n",
       "      <td>0</td>\n",
       "      <td>0</td>\n",
       "    </tr>\n",
       "    <tr>\n",
       "      <th>1</th>\n",
       "      <td>1</td>\n",
       "      <td>9</td>\n",
       "      <td>0</td>\n",
       "      <td>0</td>\n",
       "      <td>0</td>\n",
       "      <td>0</td>\n",
       "      <td>0</td>\n",
       "      <td>0</td>\n",
       "      <td>0</td>\n",
       "      <td>0</td>\n",
       "      <td>...</td>\n",
       "      <td>0</td>\n",
       "      <td>0</td>\n",
       "      <td>0</td>\n",
       "      <td>0</td>\n",
       "      <td>0</td>\n",
       "      <td>0</td>\n",
       "      <td>0</td>\n",
       "      <td>0</td>\n",
       "      <td>0</td>\n",
       "      <td>0</td>\n",
       "    </tr>\n",
       "    <tr>\n",
       "      <th>2</th>\n",
       "      <td>2</td>\n",
       "      <td>6</td>\n",
       "      <td>0</td>\n",
       "      <td>0</td>\n",
       "      <td>0</td>\n",
       "      <td>0</td>\n",
       "      <td>0</td>\n",
       "      <td>0</td>\n",
       "      <td>0</td>\n",
       "      <td>5</td>\n",
       "      <td>...</td>\n",
       "      <td>0</td>\n",
       "      <td>0</td>\n",
       "      <td>0</td>\n",
       "      <td>30</td>\n",
       "      <td>43</td>\n",
       "      <td>0</td>\n",
       "      <td>0</td>\n",
       "      <td>0</td>\n",
       "      <td>0</td>\n",
       "      <td>0</td>\n",
       "    </tr>\n",
       "    <tr>\n",
       "      <th>3</th>\n",
       "      <td>3</td>\n",
       "      <td>0</td>\n",
       "      <td>0</td>\n",
       "      <td>0</td>\n",
       "      <td>0</td>\n",
       "      <td>1</td>\n",
       "      <td>2</td>\n",
       "      <td>0</td>\n",
       "      <td>0</td>\n",
       "      <td>0</td>\n",
       "      <td>...</td>\n",
       "      <td>3</td>\n",
       "      <td>0</td>\n",
       "      <td>0</td>\n",
       "      <td>0</td>\n",
       "      <td>0</td>\n",
       "      <td>1</td>\n",
       "      <td>0</td>\n",
       "      <td>0</td>\n",
       "      <td>0</td>\n",
       "      <td>0</td>\n",
       "    </tr>\n",
       "    <tr>\n",
       "      <th>4</th>\n",
       "      <td>4</td>\n",
       "      <td>3</td>\n",
       "      <td>0</td>\n",
       "      <td>0</td>\n",
       "      <td>0</td>\n",
       "      <td>0</td>\n",
       "      <td>0</td>\n",
       "      <td>0</td>\n",
       "      <td>0</td>\n",
       "      <td>0</td>\n",
       "      <td>...</td>\n",
       "      <td>0</td>\n",
       "      <td>0</td>\n",
       "      <td>0</td>\n",
       "      <td>0</td>\n",
       "      <td>0</td>\n",
       "      <td>0</td>\n",
       "      <td>0</td>\n",
       "      <td>0</td>\n",
       "      <td>0</td>\n",
       "      <td>0</td>\n",
       "    </tr>\n",
       "  </tbody>\n",
       "</table>\n",
       "<p>5 rows × 786 columns</p>\n",
       "</div>"
      ],
      "text/plain": [
       "   index  label  pixel1  pixel2  pixel3  pixel4  pixel5  pixel6  pixel7  \\\n",
       "0      0      2       0       0       0       0       0       0       0   \n",
       "1      1      9       0       0       0       0       0       0       0   \n",
       "2      2      6       0       0       0       0       0       0       0   \n",
       "3      3      0       0       0       0       1       2       0       0   \n",
       "4      4      3       0       0       0       0       0       0       0   \n",
       "\n",
       "   pixel8  ...  pixel775  pixel776  pixel777  pixel778  pixel779  pixel780  \\\n",
       "0       0  ...         0         0         0         0         0         0   \n",
       "1       0  ...         0         0         0         0         0         0   \n",
       "2       5  ...         0         0         0        30        43         0   \n",
       "3       0  ...         3         0         0         0         0         1   \n",
       "4       0  ...         0         0         0         0         0         0   \n",
       "\n",
       "   pixel781  pixel782  pixel783  pixel784  \n",
       "0         0         0         0         0  \n",
       "1         0         0         0         0  \n",
       "2         0         0         0         0  \n",
       "3         0         0         0         0  \n",
       "4         0         0         0         0  \n",
       "\n",
       "[5 rows x 786 columns]"
      ]
     },
     "execution_count": 29,
     "metadata": {},
     "output_type": "execute_result"
    }
   ],
   "source": [
    "df_train.head()"
   ]
  },
  {
   "cell_type": "code",
   "execution_count": 30,
   "metadata": {},
   "outputs": [
    {
     "name": "stdout",
     "output_type": "stream",
     "text": [
      "<class 'pandas.core.frame.DataFrame'>\n",
      "RangeIndex: 60000 entries, 0 to 59999\n",
      "Columns: 786 entries, index to pixel784\n",
      "dtypes: int64(786)\n",
      "memory usage: 359.8 MB\n"
     ]
    }
   ],
   "source": [
    "df_train.info()"
   ]
  },
  {
   "cell_type": "code",
   "execution_count": 31,
   "metadata": {},
   "outputs": [
    {
     "data": {
      "text/html": [
       "<div>\n",
       "<style scoped>\n",
       "    .dataframe tbody tr th:only-of-type {\n",
       "        vertical-align: middle;\n",
       "    }\n",
       "\n",
       "    .dataframe tbody tr th {\n",
       "        vertical-align: top;\n",
       "    }\n",
       "\n",
       "    .dataframe thead th {\n",
       "        text-align: right;\n",
       "    }\n",
       "</style>\n",
       "<table border=\"1\" class=\"dataframe\">\n",
       "  <thead>\n",
       "    <tr style=\"text-align: right;\">\n",
       "      <th></th>\n",
       "      <th>index</th>\n",
       "      <th>pixel1</th>\n",
       "      <th>pixel2</th>\n",
       "      <th>pixel3</th>\n",
       "      <th>pixel4</th>\n",
       "      <th>pixel5</th>\n",
       "      <th>pixel6</th>\n",
       "      <th>pixel7</th>\n",
       "      <th>pixel8</th>\n",
       "      <th>pixel9</th>\n",
       "      <th>...</th>\n",
       "      <th>pixel775</th>\n",
       "      <th>pixel776</th>\n",
       "      <th>pixel777</th>\n",
       "      <th>pixel778</th>\n",
       "      <th>pixel779</th>\n",
       "      <th>pixel780</th>\n",
       "      <th>pixel781</th>\n",
       "      <th>pixel782</th>\n",
       "      <th>pixel783</th>\n",
       "      <th>pixel784</th>\n",
       "    </tr>\n",
       "  </thead>\n",
       "  <tbody>\n",
       "    <tr>\n",
       "      <th>0</th>\n",
       "      <td>0</td>\n",
       "      <td>0</td>\n",
       "      <td>0</td>\n",
       "      <td>0</td>\n",
       "      <td>0</td>\n",
       "      <td>0</td>\n",
       "      <td>0</td>\n",
       "      <td>0</td>\n",
       "      <td>9</td>\n",
       "      <td>8</td>\n",
       "      <td>...</td>\n",
       "      <td>103</td>\n",
       "      <td>87</td>\n",
       "      <td>56</td>\n",
       "      <td>0</td>\n",
       "      <td>0</td>\n",
       "      <td>0</td>\n",
       "      <td>0</td>\n",
       "      <td>0</td>\n",
       "      <td>0</td>\n",
       "      <td>0</td>\n",
       "    </tr>\n",
       "    <tr>\n",
       "      <th>1</th>\n",
       "      <td>1</td>\n",
       "      <td>0</td>\n",
       "      <td>0</td>\n",
       "      <td>0</td>\n",
       "      <td>0</td>\n",
       "      <td>0</td>\n",
       "      <td>0</td>\n",
       "      <td>0</td>\n",
       "      <td>0</td>\n",
       "      <td>0</td>\n",
       "      <td>...</td>\n",
       "      <td>34</td>\n",
       "      <td>0</td>\n",
       "      <td>0</td>\n",
       "      <td>0</td>\n",
       "      <td>0</td>\n",
       "      <td>0</td>\n",
       "      <td>0</td>\n",
       "      <td>0</td>\n",
       "      <td>0</td>\n",
       "      <td>0</td>\n",
       "    </tr>\n",
       "    <tr>\n",
       "      <th>2</th>\n",
       "      <td>2</td>\n",
       "      <td>0</td>\n",
       "      <td>0</td>\n",
       "      <td>0</td>\n",
       "      <td>0</td>\n",
       "      <td>0</td>\n",
       "      <td>0</td>\n",
       "      <td>14</td>\n",
       "      <td>53</td>\n",
       "      <td>99</td>\n",
       "      <td>...</td>\n",
       "      <td>0</td>\n",
       "      <td>0</td>\n",
       "      <td>0</td>\n",
       "      <td>0</td>\n",
       "      <td>63</td>\n",
       "      <td>53</td>\n",
       "      <td>31</td>\n",
       "      <td>0</td>\n",
       "      <td>0</td>\n",
       "      <td>0</td>\n",
       "    </tr>\n",
       "    <tr>\n",
       "      <th>3</th>\n",
       "      <td>3</td>\n",
       "      <td>0</td>\n",
       "      <td>0</td>\n",
       "      <td>0</td>\n",
       "      <td>0</td>\n",
       "      <td>0</td>\n",
       "      <td>0</td>\n",
       "      <td>0</td>\n",
       "      <td>0</td>\n",
       "      <td>0</td>\n",
       "      <td>...</td>\n",
       "      <td>137</td>\n",
       "      <td>126</td>\n",
       "      <td>140</td>\n",
       "      <td>0</td>\n",
       "      <td>133</td>\n",
       "      <td>224</td>\n",
       "      <td>222</td>\n",
       "      <td>56</td>\n",
       "      <td>0</td>\n",
       "      <td>0</td>\n",
       "    </tr>\n",
       "    <tr>\n",
       "      <th>4</th>\n",
       "      <td>4</td>\n",
       "      <td>0</td>\n",
       "      <td>0</td>\n",
       "      <td>0</td>\n",
       "      <td>0</td>\n",
       "      <td>0</td>\n",
       "      <td>0</td>\n",
       "      <td>0</td>\n",
       "      <td>0</td>\n",
       "      <td>0</td>\n",
       "      <td>...</td>\n",
       "      <td>0</td>\n",
       "      <td>0</td>\n",
       "      <td>0</td>\n",
       "      <td>0</td>\n",
       "      <td>0</td>\n",
       "      <td>0</td>\n",
       "      <td>0</td>\n",
       "      <td>0</td>\n",
       "      <td>0</td>\n",
       "      <td>0</td>\n",
       "    </tr>\n",
       "  </tbody>\n",
       "</table>\n",
       "<p>5 rows × 785 columns</p>\n",
       "</div>"
      ],
      "text/plain": [
       "   index  pixel1  pixel2  pixel3  pixel4  pixel5  pixel6  pixel7  pixel8  \\\n",
       "0      0       0       0       0       0       0       0       0       9   \n",
       "1      1       0       0       0       0       0       0       0       0   \n",
       "2      2       0       0       0       0       0       0      14      53   \n",
       "3      3       0       0       0       0       0       0       0       0   \n",
       "4      4       0       0       0       0       0       0       0       0   \n",
       "\n",
       "   pixel9  ...  pixel775  pixel776  pixel777  pixel778  pixel779  pixel780  \\\n",
       "0       8  ...       103        87        56         0         0         0   \n",
       "1       0  ...        34         0         0         0         0         0   \n",
       "2      99  ...         0         0         0         0        63        53   \n",
       "3       0  ...       137       126       140         0       133       224   \n",
       "4       0  ...         0         0         0         0         0         0   \n",
       "\n",
       "   pixel781  pixel782  pixel783  pixel784  \n",
       "0         0         0         0         0  \n",
       "1         0         0         0         0  \n",
       "2        31         0         0         0  \n",
       "3       222        56         0         0  \n",
       "4         0         0         0         0  \n",
       "\n",
       "[5 rows x 785 columns]"
      ]
     },
     "execution_count": 31,
     "metadata": {},
     "output_type": "execute_result"
    }
   ],
   "source": [
    "df_test.head()"
   ]
  },
  {
   "cell_type": "code",
   "execution_count": 32,
   "metadata": {},
   "outputs": [
    {
     "name": "stdout",
     "output_type": "stream",
     "text": [
      "<class 'pandas.core.frame.DataFrame'>\n",
      "RangeIndex: 10000 entries, 0 to 9999\n",
      "Columns: 785 entries, index to pixel784\n",
      "dtypes: int64(785)\n",
      "memory usage: 59.9 MB\n"
     ]
    }
   ],
   "source": [
    "df_test.info()"
   ]
  },
  {
   "cell_type": "code",
   "execution_count": 33,
   "metadata": {},
   "outputs": [
    {
     "data": {
      "text/plain": [
       "Series([], dtype: int64)"
      ]
     },
     "execution_count": 33,
     "metadata": {},
     "output_type": "execute_result"
    }
   ],
   "source": [
    "na_sum = df_train.isna().sum()\n",
    "na_sum[na_sum !=0]"
   ]
  },
  {
   "cell_type": "code",
   "execution_count": 34,
   "metadata": {},
   "outputs": [
    {
     "data": {
      "text/plain": [
       "Series([], dtype: int64)"
      ]
     },
     "execution_count": 34,
     "metadata": {},
     "output_type": "execute_result"
    }
   ],
   "source": [
    "na_sum = df_test.isna().sum()\n",
    "na_sum[na_sum !=0]"
   ]
  },
  {
   "cell_type": "code",
   "execution_count": 35,
   "metadata": {},
   "outputs": [
    {
     "data": {
      "text/plain": [
       "[0, 1, 2, 3, 4, 5, 6, 7, 8, 9]"
      ]
     },
     "execution_count": 35,
     "metadata": {},
     "output_type": "execute_result"
    }
   ],
   "source": [
    "sorted(df_train['label'].unique())"
   ]
  },
  {
   "cell_type": "code",
   "execution_count": 36,
   "metadata": {},
   "outputs": [
    {
     "name": "stdout",
     "output_type": "stream",
     "text": [
      "(60000, 28, 28)\n",
      "(60000,)\n",
      "(10000, 28, 28)\n"
     ]
    }
   ],
   "source": [
    "X = df_train[df_train.columns.difference(['index','label'])].values.reshape((-1,28,28))\n",
    "y = df_train['label']\n",
    "test = df_test[df_test.columns.difference(['index'])].values.reshape((-1,28,28))\n",
    "\n",
    "print(X.shape)\n",
    "print(y.shape)\n",
    "print(test.shape)"
   ]
  },
  {
   "cell_type": "code",
   "execution_count": 37,
   "metadata": {},
   "outputs": [
    {
     "data": {
      "text/plain": [
       "<matplotlib.image.AxesImage at 0x1922f67bb80>"
      ]
     },
     "execution_count": 37,
     "metadata": {},
     "output_type": "execute_result"
    },
    {
     "data": {
      "image/png": "[encoded data removed]",
      "text/plain": [
       "<Figure size 432x288 with 1 Axes>"
      ]
     },
     "metadata": {
      "needs_background": "light"
     },
     "output_type": "display_data"
    }
   ],
   "source": [
    "plt.imshow(test[0])"
   ]
  },
  {
   "cell_type": "code",
   "execution_count": 38,
   "metadata": {},
   "outputs": [],
   "source": [
    "X = X / 255\n",
    "test = test / 255"
   ]
  },
  {
   "cell_type": "code",
   "execution_count": 39,
   "metadata": {},
   "outputs": [
    {
     "name": "stdout",
     "output_type": "stream",
     "text": [
      "(60000, 28, 28, 1)\n",
      "(10000, 28, 28, 1)\n"
     ]
    }
   ],
   "source": [
    "# for color\n",
    "X = np.expand_dims(X,axis=-1)\n",
    "test = np.expand_dims(test,axis=-1)\n",
    "\n",
    "print(X.shape)\n",
    "print(test.shape)"
   ]
  },
  {
   "cell_type": "code",
   "execution_count": 40,
   "metadata": {},
   "outputs": [
    {
     "name": "stdout",
     "output_type": "stream",
     "text": [
      "(48000, 28, 28, 1) (48000,)\n",
      "(12000, 28, 28, 1) (12000,)\n"
     ]
    }
   ],
   "source": [
    "X_train,X_test,y_train,y_test = train_test_split(X,y,stratify=y,test_size=0.2,shuffle=True,random_state=42)\n",
    "\n",
    "print(X_train.shape,y_train.shape)\n",
    "print(X_test.shape,y_test.shape)"
   ]
  },
  {
   "cell_type": "code",
   "execution_count": 41,
   "metadata": {},
   "outputs": [
    {
     "name": "stdout",
     "output_type": "stream",
     "text": [
      "Model: \"sequential_2\"\n",
      "_________________________________________________________________\n",
      " Layer (type)                Output Shape              Param #   \n",
      "=================================================================\n",
      " flatten_1 (Flatten)         (None, 784)               0         \n",
      "                                                                 \n",
      " dense_2 (Dense)             (None, 64)                50240     \n",
      "                                                                 \n",
      " dense_3 (Dense)             (None, 10)                650       \n",
      "                                                                 \n",
      "=================================================================\n",
      "Total params: 50,890\n",
      "Trainable params: 50,890\n",
      "Non-trainable params: 0\n",
      "_________________________________________________________________\n"
     ]
    }
   ],
   "source": [
    "# MLP\n",
    "model = Sequential()\n",
    "\n",
    "model.add(Flatten(input_shape=[28,28]))\n",
    "model.add(Dense(64,activation='relu'))\n",
    "model.add(Dense(10,activation='softmax'))\n",
    "\n",
    "model.compile(optimizer='adam',loss='sparse_categorical_crossentropy',metrics=['acc'])\n",
    "\n",
    "model.summary()"
   ]
  },
  {
   "cell_type": "code",
   "execution_count": 42,
   "metadata": {},
   "outputs": [
    {
     "name": "stdout",
     "output_type": "stream",
     "text": [
      "Epoch 1/20\n",
      "750/750 [==============================] - 2s 3ms/step - loss: 0.5799 - acc: 0.8015 - val_loss: 0.4578 - val_acc: 0.8371\n",
      "Epoch 2/20\n",
      "750/750 [==============================] - 2s 3ms/step - loss: 0.4280 - acc: 0.8501 - val_loss: 0.4084 - val_acc: 0.8526\n",
      "Epoch 3/20\n",
      "750/750 [==============================] - 2s 3ms/step - loss: 0.3866 - acc: 0.8634 - val_loss: 0.3699 - val_acc: 0.8675\n",
      "Epoch 4/20\n",
      "750/750 [==============================] - 2s 3ms/step - loss: 0.3617 - acc: 0.8711 - val_loss: 0.3809 - val_acc: 0.8668\n",
      "Epoch 5/20\n",
      "750/750 [==============================] - 2s 3ms/step - loss: 0.3442 - acc: 0.8776 - val_loss: 0.3990 - val_acc: 0.8533\n",
      "Epoch 6/20\n",
      "750/750 [==============================] - 2s 2ms/step - loss: 0.3275 - acc: 0.8828 - val_loss: 0.3516 - val_acc: 0.8719\n",
      "Epoch 7/20\n",
      "750/750 [==============================] - 2s 2ms/step - loss: 0.3134 - acc: 0.8872 - val_loss: 0.3293 - val_acc: 0.8802\n",
      "Epoch 8/20\n",
      "750/750 [==============================] - 2s 2ms/step - loss: 0.3014 - acc: 0.8902 - val_loss: 0.3374 - val_acc: 0.8748\n",
      "Epoch 9/20\n",
      "750/750 [==============================] - 2s 2ms/step - loss: 0.2931 - acc: 0.8941 - val_loss: 0.3226 - val_acc: 0.8818\n",
      "Epoch 10/20\n",
      "750/750 [==============================] - 2s 2ms/step - loss: 0.2839 - acc: 0.8975 - val_loss: 0.3266 - val_acc: 0.8812\n",
      "Epoch 11/20\n",
      "750/750 [==============================] - 2s 2ms/step - loss: 0.2751 - acc: 0.9002 - val_loss: 0.3314 - val_acc: 0.8804\n",
      "Epoch 12/20\n",
      "750/750 [==============================] - 2s 2ms/step - loss: 0.2696 - acc: 0.9014 - val_loss: 0.3383 - val_acc: 0.8781\n",
      "Epoch 13/20\n",
      "750/750 [==============================] - 2s 3ms/step - loss: 0.2636 - acc: 0.9039 - val_loss: 0.3189 - val_acc: 0.8859\n",
      "Epoch 14/20\n",
      "750/750 [==============================] - 2s 2ms/step - loss: 0.2547 - acc: 0.9071 - val_loss: 0.3319 - val_acc: 0.8826\n",
      "Epoch 15/20\n",
      "750/750 [==============================] - 2s 2ms/step - loss: 0.2503 - acc: 0.9084 - val_loss: 0.3165 - val_acc: 0.8871\n",
      "Epoch 16/20\n",
      "750/750 [==============================] - 2s 2ms/step - loss: 0.2441 - acc: 0.9106 - val_loss: 0.3212 - val_acc: 0.8857\n",
      "Epoch 17/20\n",
      "750/750 [==============================] - 2s 2ms/step - loss: 0.2373 - acc: 0.9127 - val_loss: 0.3144 - val_acc: 0.8847\n",
      "Epoch 18/20\n",
      "750/750 [==============================] - 2s 2ms/step - loss: 0.2301 - acc: 0.9149 - val_loss: 0.3239 - val_acc: 0.8838\n",
      "Epoch 19/20\n",
      "750/750 [==============================] - 2s 2ms/step - loss: 0.2283 - acc: 0.9153 - val_loss: 0.3178 - val_acc: 0.8875\n",
      "Epoch 20/20\n",
      "750/750 [==============================] - 2s 2ms/step - loss: 0.2265 - acc: 0.9179 - val_loss: 0.3291 - val_acc: 0.8847\n"
     ]
    },
    {
     "data": {
      "text/plain": [
       "<keras.callbacks.History at 0x192282e4130>"
      ]
     },
     "execution_count": 42,
     "metadata": {},
     "output_type": "execute_result"
    }
   ],
   "source": [
    "model.fit(X_train,y_train,batch_size=64,epochs=20,validation_data=(X_test,y_test))"
   ]
  },
  {
   "cell_type": "code",
   "execution_count": 43,
   "metadata": {},
   "outputs": [
    {
     "data": {
      "image/png": "[encoded data removed]",
      "text/plain": [
       "<Figure size 720x576 with 1 Axes>"
      ]
     },
     "metadata": {},
     "output_type": "display_data"
    }
   ],
   "source": [
    "f = plt.figure(figsize=(10,8))\n",
    "\n",
    "plt.plot(range(20),model.history.history['loss'][:20],label='train')\n",
    "plt.plot(range(20),model.history.history['val_loss'][:20],label='val')\n",
    "\n",
    "f.patch.set_facecolor('white')\n",
    "\n",
    "plt.legend()\n",
    "plt.xlabel('epochs')\n",
    "plt.ylabel('loss')\n",
    "plt.title('MLP Image Classification')\n",
    "plt.show()"
   ]
  },
  {
   "cell_type": "code",
   "execution_count": 44,
   "metadata": {},
   "outputs": [
    {
     "name": "stdout",
     "output_type": "stream",
     "text": [
      "Model: \"sequential_3\"\n",
      "_________________________________________________________________\n",
      " Layer (type)                Output Shape              Param #   \n",
      "=================================================================\n",
      " conv2d_1 (Conv2D)           (None, 26, 26, 16)        160       \n",
      "                                                                 \n",
      " max_pooling2d (MaxPooling2D  (None, 13, 13, 16)       0         \n",
      " )                                                               \n",
      "                                                                 \n",
      " flatten_2 (Flatten)         (None, 2704)              0         \n",
      "                                                                 \n",
      " dense_4 (Dense)             (None, 64)                173120    \n",
      "                                                                 \n",
      " dense_5 (Dense)             (None, 10)                650       \n",
      "                                                                 \n",
      "=================================================================\n",
      "Total params: 173,930\n",
      "Trainable params: 173,930\n",
      "Non-trainable params: 0\n",
      "_________________________________________________________________\n"
     ]
    }
   ],
   "source": [
    "# CNN\n",
    "model = Sequential()\n",
    "\n",
    "model.add(Conv2D(kernel_size=(3,3),filters=16,input_shape=[28,28,1],activation='relu'))\n",
    "model.add(MaxPool2D(pool_size=(2,2)))\n",
    "model.add(Flatten())\n",
    "model.add(Dense(64,activation='relu'))\n",
    "model.add(Dense(10,activation='softmax'))\n",
    "\n",
    "model.compile(optimizer='adam',loss='sparse_categorical_crossentropy',metrics=['acc'])\n",
    "\n",
    "model.summary()"
   ]
  },
  {
   "cell_type": "code",
   "execution_count": 45,
   "metadata": {},
   "outputs": [
    {
     "name": "stdout",
     "output_type": "stream",
     "text": [
      "Epoch 1/20\n",
      "750/750 [==============================] - 6s 4ms/step - loss: 0.5447 - acc: 0.8096 - val_loss: 0.3946 - val_acc: 0.8600\n",
      "Epoch 2/20\n",
      "750/750 [==============================] - 3s 3ms/step - loss: 0.3776 - acc: 0.8679 - val_loss: 0.3762 - val_acc: 0.8668\n",
      "Epoch 3/20\n",
      "750/750 [==============================] - 3s 3ms/step - loss: 0.3372 - acc: 0.8809 - val_loss: 0.3295 - val_acc: 0.8803\n",
      "Epoch 4/20\n",
      "750/750 [==============================] - 2s 3ms/step - loss: 0.3114 - acc: 0.8895 - val_loss: 0.3130 - val_acc: 0.8873\n",
      "Epoch 5/20\n",
      "750/750 [==============================] - 2s 3ms/step - loss: 0.2904 - acc: 0.8952 - val_loss: 0.3223 - val_acc: 0.8826\n",
      "Epoch 6/20\n",
      "750/750 [==============================] - 2s 3ms/step - loss: 0.2738 - acc: 0.9013 - val_loss: 0.2950 - val_acc: 0.8912\n",
      "Epoch 7/20\n",
      "750/750 [==============================] - 2s 3ms/step - loss: 0.2577 - acc: 0.9064 - val_loss: 0.2972 - val_acc: 0.8902\n",
      "Epoch 8/20\n",
      "750/750 [==============================] - 2s 3ms/step - loss: 0.2440 - acc: 0.9116 - val_loss: 0.2988 - val_acc: 0.8917\n",
      "Epoch 9/20\n",
      "750/750 [==============================] - 2s 3ms/step - loss: 0.2311 - acc: 0.9161 - val_loss: 0.2982 - val_acc: 0.8938\n",
      "Epoch 10/20\n",
      "750/750 [==============================] - 2s 3ms/step - loss: 0.2236 - acc: 0.9178 - val_loss: 0.2978 - val_acc: 0.8928\n",
      "Epoch 11/20\n",
      "750/750 [==============================] - 2s 3ms/step - loss: 0.2095 - acc: 0.9233 - val_loss: 0.3070 - val_acc: 0.8886\n",
      "Epoch 12/20\n",
      "750/750 [==============================] - 2s 3ms/step - loss: 0.1989 - acc: 0.9266 - val_loss: 0.3019 - val_acc: 0.8917\n",
      "Epoch 13/20\n",
      "750/750 [==============================] - 2s 3ms/step - loss: 0.1872 - acc: 0.9309 - val_loss: 0.2958 - val_acc: 0.8984\n",
      "Epoch 14/20\n",
      "750/750 [==============================] - 2s 3ms/step - loss: 0.1810 - acc: 0.9331 - val_loss: 0.2942 - val_acc: 0.8982\n",
      "Epoch 15/20\n",
      "750/750 [==============================] - 2s 3ms/step - loss: 0.1714 - acc: 0.9357 - val_loss: 0.2989 - val_acc: 0.8999\n",
      "Epoch 16/20\n",
      "750/750 [==============================] - 2s 3ms/step - loss: 0.1634 - acc: 0.9392 - val_loss: 0.2995 - val_acc: 0.8992\n",
      "Epoch 17/20\n",
      "750/750 [==============================] - 2s 3ms/step - loss: 0.1521 - acc: 0.9434 - val_loss: 0.3150 - val_acc: 0.8970\n",
      "Epoch 18/20\n",
      "750/750 [==============================] - 2s 3ms/step - loss: 0.1451 - acc: 0.9458 - val_loss: 0.3108 - val_acc: 0.8981\n",
      "Epoch 19/20\n",
      "750/750 [==============================] - 2s 3ms/step - loss: 0.1388 - acc: 0.9493 - val_loss: 0.3246 - val_acc: 0.8963\n",
      "Epoch 20/20\n",
      "750/750 [==============================] - 2s 3ms/step - loss: 0.1318 - acc: 0.9511 - val_loss: 0.3494 - val_acc: 0.8966\n"
     ]
    },
    {
     "data": {
      "text/plain": [
       "<keras.callbacks.History at 0x1922f5019d0>"
      ]
     },
     "execution_count": 45,
     "metadata": {},
     "output_type": "execute_result"
    }
   ],
   "source": [
    "model.fit(X_train,y_train,batch_size=64,epochs=20,validation_data=(X_test,y_test))"
   ]
  },
  {
   "cell_type": "code",
   "execution_count": 46,
   "metadata": {},
   "outputs": [
    {
     "data": {
      "image/png": "[encoded data removed]",
      "text/plain": [
       "<Figure size 720x576 with 1 Axes>"
      ]
     },
     "metadata": {},
     "output_type": "display_data"
    }
   ],
   "source": [
    "f = plt.figure(figsize=(10,8))\n",
    "\n",
    "plt.plot(range(20),model.history.history['loss'][:20],label='train')\n",
    "plt.plot(range(20),model.history.history['val_loss'][:20],label='val')\n",
    "\n",
    "f.patch.set_facecolor('white')\n",
    "\n",
    "plt.legend()\n",
    "plt.xlabel('epochs')\n",
    "plt.ylabel('loss')\n",
    "plt.title('MLP Image Classification')\n",
    "plt.show()"
   ]
  },
  {
   "cell_type": "code",
   "execution_count": 52,
   "metadata": {},
   "outputs": [
    {
     "name": "stdout",
     "output_type": "stream",
     "text": [
      "Model: \"sequential_5\"\n",
      "_________________________________________________________________\n",
      " Layer (type)                Output Shape              Param #   \n",
      "=================================================================\n",
      " conv2d_3 (Conv2D)           (None, 26, 26, 16)        160       \n",
      "                                                                 \n",
      " max_pooling2d_2 (MaxPooling  (None, 13, 13, 16)       0         \n",
      " 2D)                                                             \n",
      "                                                                 \n",
      " flatten_4 (Flatten)         (None, 2704)              0         \n",
      "                                                                 \n",
      " dense_8 (Dense)             (None, 64)                173120    \n",
      "                                                                 \n",
      " dropout_1 (Dropout)         (None, 64)                0         \n",
      "                                                                 \n",
      " dense_9 (Dense)             (None, 10)                650       \n",
      "                                                                 \n",
      "=================================================================\n",
      "Total params: 173,930\n",
      "Trainable params: 173,930\n",
      "Non-trainable params: 0\n",
      "_________________________________________________________________\n"
     ]
    }
   ],
   "source": [
    "# fixed CNN(prevent overfitting)\n",
    "model = Sequential()\n",
    "\n",
    "model.add(Conv2D(kernel_size=(3,3),filters=16,input_shape=[28,28,1],activation='relu'))\n",
    "model.add(MaxPool2D(pool_size=(2,2)))\n",
    "model.add(Flatten())\n",
    "model.add(Dense(64,activation='relu'))\n",
    "model.add(Dropout(rate=0.5))\n",
    "model.add(Dense(10,activation='softmax'))\n",
    "\n",
    "model.compile(optimizer='adam',loss='sparse_categorical_crossentropy',metrics=['acc'])\n",
    "\n",
    "model.summary()"
   ]
  },
  {
   "cell_type": "code",
   "execution_count": 53,
   "metadata": {},
   "outputs": [
    {
     "name": "stdout",
     "output_type": "stream",
     "text": [
      "Epoch 1/100\n",
      "750/750 [==============================] - 3s 3ms/step - loss: 0.7460 - acc: 0.7397 - val_loss: 0.4326 - val_acc: 0.8367\n",
      "Epoch 2/100\n",
      "750/750 [==============================] - 2s 3ms/step - loss: 0.5163 - acc: 0.8184 - val_loss: 0.3810 - val_acc: 0.8614\n",
      "Epoch 3/100\n",
      "750/750 [==============================] - 2s 3ms/step - loss: 0.4655 - acc: 0.8354 - val_loss: 0.3555 - val_acc: 0.8712\n",
      "Epoch 4/100\n",
      "750/750 [==============================] - 2s 3ms/step - loss: 0.4378 - acc: 0.8449 - val_loss: 0.3365 - val_acc: 0.8764\n",
      "Epoch 5/100\n",
      "750/750 [==============================] - 2s 3ms/step - loss: 0.4156 - acc: 0.8521 - val_loss: 0.3263 - val_acc: 0.8817\n",
      "Epoch 6/100\n",
      "750/750 [==============================] - 3s 4ms/step - loss: 0.3975 - acc: 0.8589 - val_loss: 0.3247 - val_acc: 0.8790\n",
      "Epoch 7/100\n",
      "750/750 [==============================] - 3s 3ms/step - loss: 0.3776 - acc: 0.8648 - val_loss: 0.3192 - val_acc: 0.8821\n",
      "Epoch 8/100\n",
      "750/750 [==============================] - 3s 3ms/step - loss: 0.3665 - acc: 0.8673 - val_loss: 0.3107 - val_acc: 0.8878\n",
      "Epoch 9/100\n",
      "750/750 [==============================] - 3s 3ms/step - loss: 0.3585 - acc: 0.8698 - val_loss: 0.3029 - val_acc: 0.8910\n",
      "Epoch 10/100\n",
      "750/750 [==============================] - 3s 3ms/step - loss: 0.3482 - acc: 0.8731 - val_loss: 0.3086 - val_acc: 0.8875\n",
      "Epoch 11/100\n",
      "750/750 [==============================] - 3s 3ms/step - loss: 0.3368 - acc: 0.8767 - val_loss: 0.2992 - val_acc: 0.8907\n",
      "Epoch 12/100\n",
      "750/750 [==============================] - 3s 3ms/step - loss: 0.3283 - acc: 0.8779 - val_loss: 0.2962 - val_acc: 0.8926\n",
      "Epoch 13/100\n",
      "750/750 [==============================] - 2s 3ms/step - loss: 0.3247 - acc: 0.8791 - val_loss: 0.2970 - val_acc: 0.8938\n",
      "Epoch 14/100\n",
      "750/750 [==============================] - 2s 3ms/step - loss: 0.3143 - acc: 0.8816 - val_loss: 0.2904 - val_acc: 0.8938\n",
      "Epoch 15/100\n",
      "750/750 [==============================] - 2s 3ms/step - loss: 0.3098 - acc: 0.8842 - val_loss: 0.2874 - val_acc: 0.8971\n",
      "Epoch 16/100\n",
      "750/750 [==============================] - 2s 3ms/step - loss: 0.3012 - acc: 0.8873 - val_loss: 0.2932 - val_acc: 0.8967\n",
      "Epoch 17/100\n",
      "750/750 [==============================] - 2s 3ms/step - loss: 0.2954 - acc: 0.8899 - val_loss: 0.2940 - val_acc: 0.8966\n",
      "Epoch 18/100\n",
      "750/750 [==============================] - 3s 3ms/step - loss: 0.2926 - acc: 0.8901 - val_loss: 0.2995 - val_acc: 0.8928\n",
      "Epoch 19/100\n",
      "750/750 [==============================] - 3s 3ms/step - loss: 0.2858 - acc: 0.8914 - val_loss: 0.2976 - val_acc: 0.8960\n",
      "Epoch 20/100\n",
      "750/750 [==============================] - 3s 3ms/step - loss: 0.2800 - acc: 0.8937 - val_loss: 0.2924 - val_acc: 0.8949\n",
      "Epoch 21/100\n",
      "750/750 [==============================] - 2s 3ms/step - loss: 0.2759 - acc: 0.8947 - val_loss: 0.2912 - val_acc: 0.8995\n",
      "Epoch 22/100\n",
      "750/750 [==============================] - 2s 3ms/step - loss: 0.2719 - acc: 0.8955 - val_loss: 0.2983 - val_acc: 0.8972\n",
      "Epoch 23/100\n",
      "750/750 [==============================] - 2s 3ms/step - loss: 0.2651 - acc: 0.8966 - val_loss: 0.3018 - val_acc: 0.8947\n",
      "Epoch 24/100\n",
      "750/750 [==============================] - 2s 3ms/step - loss: 0.2641 - acc: 0.8971 - val_loss: 0.3003 - val_acc: 0.8984\n",
      "Epoch 25/100\n",
      "750/750 [==============================] - 2s 3ms/step - loss: 0.2632 - acc: 0.8970 - val_loss: 0.2961 - val_acc: 0.8985\n"
     ]
    },
    {
     "data": {
      "text/plain": [
       "<keras.callbacks.History at 0x190f4927fd0>"
      ]
     },
     "execution_count": 53,
     "metadata": {},
     "output_type": "execute_result"
    }
   ],
   "source": [
    "early_stop = EarlyStopping(patience=10,monitor='val_loss')\n",
    "model.fit(X_train,y_train,batch_size=64,epochs=100,validation_data=(X_test,y_test),callbacks=[early_stop])"
   ]
  },
  {
   "cell_type": "code",
   "execution_count": 69,
   "metadata": {},
   "outputs": [
    {
     "data": {
      "image/png": "[encoded data removed]",
      "text/plain": [
       "<Figure size 720x576 with 2 Axes>"
      ]
     },
     "metadata": {},
     "output_type": "display_data"
    }
   ],
   "source": [
    "fig,axes = plt.subplots(nrows=1,ncols=2,figsize=(10,8))\n",
    "\n",
    "fig.patch.set_facecolor('white')\n",
    "\n",
    "rn = range(25)\n",
    "to = 25\n",
    "\n",
    "for i,t in enumerate(['loss','acc']):    \n",
    "    axes[i].plot(rn,model.history.history[t][:to],label='train')\n",
    "    axes[i].plot(rn,model.history.history['_'.join(['val',t])][:to],label='val')\n",
    "    axes[i].set_xlabel('epochs')\n",
    "    axes[i].set_ylabel('loss')\n",
    "    axes[i].legend()\n",
    "    \n",
    "plt.show()"
   ]
  },
  {
   "cell_type": "code",
   "execution_count": 78,
   "metadata": {},
   "outputs": [
    {
     "data": {
      "text/plain": [
       "array([0, 1, 6, ..., 8, 8, 1], dtype=int64)"
      ]
     },
     "execution_count": 78,
     "metadata": {},
     "output_type": "execute_result"
    }
   ],
   "source": [
    "y_pred = np.argmax(model.predict(test),axis=-1)\n",
    "y_pred"
   ]
  },
  {
   "cell_type": "code",
   "execution_count": 79,
   "metadata": {},
   "outputs": [
    {
     "data": {
      "image/png": "[encoded data removed]",
      "text/plain": [
       "<Figure size 432x288 with 1 Axes>"
      ]
     },
     "metadata": {
      "needs_background": "light"
     },
     "output_type": "display_data"
    }
   ],
   "source": [
    "sns.histplot(x=y_pred)\n",
    "plt.xticks(np.arange(0,10))\n",
    "plt.tight_layout()"
   ]
  }
 ],
 "metadata": {
  "interpreter": {
   "hash": "f723c1840dbe0e60bf41c97e1d2e9a8459f991a324c2b72cd455057c9a7f751a"
  },
  "kernelspec": {
   "display_name": "Python 3.9.7 ('tf')",
   "language": "python",
   "name": "python3"
  },
  "language_info": {
   "codemirror_mode": {
    "name": "ipython",
    "version": 3
   },
   "file_extension": ".py",
   "mimetype": "text/x-python",
   "name": "python",
   "nbconvert_exporter": "python",
   "pygments_lexer": "ipython3",
   "version": "3.9.7"
  },
  "orig_nbformat": 4
 },
 "nbformat": 4,
 "nbformat_minor": 2
}
